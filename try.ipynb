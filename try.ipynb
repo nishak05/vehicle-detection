{
  "nbformat": 4,
  "nbformat_minor": 0,
  "metadata": {
    "colab": {
      "provenance": []
    },
    "kernelspec": {
      "name": "python3",
      "display_name": "Python 3"
    },
    "language_info": {
      "name": "python"
    }
  },
  "cells": [
    {
      "cell_type": "code",
      "execution_count": null,
      "metadata": {
        "id": "7ElCO0ct21XF"
      },
      "outputs": [],
      "source": [
        "import cv2\n",
        "import numpy as np\n",
        "\n",
        "cap=cv2.VideoCapture(\"cars.mp4\")\n",
        "\n",
        "classesFile='coco.names'\n",
        "classNames=[]\n",
        "with open(classesFile,'rt') as f:\n",
        "    classNames=f.read().rstrip('\\n').split('\\n')\n",
        "\n",
        "print(classNames)\n",
        "print(len(classNames))\n",
        "\n",
        "while True:\n",
        "    success,img=cap.read()\n",
        "\n",
        "    cv2.imshow(\"image\",img)\n",
        "    if cv2.waitKey(1) & 0xFF ==ord('q'):\n",
        "        break\n",
        "\n",
        "cap.release()\n",
        "cv2.destroyAllWindows()"
      ]
    }
  ]
}